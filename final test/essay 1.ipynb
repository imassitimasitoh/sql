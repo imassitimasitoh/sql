{
  "nbformat": 4,
  "nbformat_minor": 0,
  "metadata": {
    "colab": {
      "provenance": []
    },
    "kernelspec": {
      "name": "python3",
      "display_name": "Python 3"
    },
    "language_info": {
      "name": "python"
    }
  },
  "cells": [
    {
      "cell_type": "markdown",
      "source": [
        "Essay 1 - ETL\n",
        "Sebagai seorang Data Engineer, kamu diberikan tugas untuk melakukan Web Scraping kumpulan berita dari suatu API.\n",
        "API URL: https://berita-indo-api-next.vercel.app/api/cnn-news/teknologi\n",
        "API Return"
      ],
      "metadata": {
        "id": "1Jaic3YBoqeC"
      }
    },
    {
      "cell_type": "markdown",
      "source": [
        "Tasks:\n",
        "1. Buatlah API request untuk mendapatkan data return API berupa JSON seperti contoh di atas dengan menggunakan Python"
      ],
      "metadata": {
        "id": "Ye_FzXrGo3k_"
      }
    },
    {
      "cell_type": "code",
      "source": [
        "import requests\n",
        "import pandas as pd\n",
        "\n",
        "# URL API\n",
        "api_url = \"https://berita-indo-api-next.vercel.app/api/cnn-news/teknologi\"\n",
        "\n",
        "# Melakukan GET request ke API\n",
        "response = requests.get(api_url)\n",
        "\n",
        "# Memeriksa status code response\n",
        "if response.status_code == 200:\n",
        "    # Parsing response JSON\n",
        "    api_data = response.json()\n",
        "\n",
        "    # Mengambil data berita dari atribut \"data\"\n",
        "    berita_list = api_data[\"data\"]\n",
        "\n",
        "    # Mengonversi data berita ke dalam DataFrame\n",
        "    df = pd.DataFrame(berita_list)\n",
        "\n",
        "    # Tampilkan 5 data pertama sebagai contoh\n",
        "    print(df.head())\n",
        "\n",
        "    # Anda dapat melakukan operasi Transform dan Load sesuai kebutuhan di sini.\n",
        "else:\n",
        "    print(f\"Terjadi kesalahan dalam melakukan request. Status code: {response.status_code}\")\n"
      ],
      "metadata": {
        "colab": {
          "base_uri": "https://localhost:8080/"
        },
        "id": "fR7Gccm2o4o7",
        "outputId": "ec06e568-bd79-4109-cd19-e9dfdbcecee4"
      },
      "execution_count": 1,
      "outputs": [
        {
          "output_type": "stream",
          "name": "stdout",
          "text": [
            "                                               title  \\\n",
            "0  Cuaca Ekstrem Diprediksi Landa Jawa Pekan Depa...   \n",
            "1  'Ramalan' BTPN Soal Kapan Indonesia Benar-bena...   \n",
            "2  Punya Superapp, Mandiri Sorot Peran Penting Di...   \n",
            "3  BTPN Ungkap 6 Tantangan yang Dihadapi Bank Dig...   \n",
            "4  FOTO: Ribuan Guci Kuno China dari Perahu Pembu...   \n",
            "\n",
            "                                                link  \\\n",
            "0  https://www.cnnindonesia.com/teknologi/2023111...   \n",
            "1  https://www.cnnindonesia.com/teknologi/2023110...   \n",
            "2  https://www.cnnindonesia.com/teknologi/2023110...   \n",
            "3  https://www.cnnindonesia.com/teknologi/2023110...   \n",
            "4  https://www.cnnindonesia.com/teknologi/2023110...   \n",
            "\n",
            "                                      contentSnippet  \\\n",
            "0  BMKG memprediksi sejumlah wilayah di RI, terma...   \n",
            "1  Indonesia saat ini dianggap belum sepenuhnya s...   \n",
            "2  Direktur IT Bank Mandiri Timothy Utama mengaku...   \n",
            "3  Deputi CEO BTPN Darmadi Sutanto mengungkap sej...   \n",
            "4  Sebanyak 1.218 keping tembikar kuno dari era d...   \n",
            "\n",
            "                    isoDate                                              image  \n",
            "0  2023-11-09T23:55:40.000Z  {'small': 'https://akcdn.detik.net.id/visual/2...  \n",
            "1  2023-11-09T15:46:31.000Z  {'small': 'https://akcdn.detik.net.id/visual/2...  \n",
            "2  2023-11-09T15:05:46.000Z  {'small': 'https://akcdn.detik.net.id/visual/2...  \n",
            "3  2023-11-09T14:35:05.000Z  {'small': 'https://akcdn.detik.net.id/visual/2...  \n",
            "4  2023-11-09T13:59:48.000Z  {'small': 'https://akcdn.detik.net.id/visual/2...  \n"
          ]
        }
      ]
    },
    {
      "cell_type": "markdown",
      "source": [
        "2. Ambil value dari key ‘data’ dalam JSON, dan transformasi menjadi sebuah DataFrame."
      ],
      "metadata": {
        "id": "BP0Wr6o4pF4f"
      }
    },
    {
      "cell_type": "code",
      "source": [
        "import pandas as pd\n",
        "\n",
        "# JSON data yang sesuai dengan format yang Anda berikan\n",
        "json_data = {\n",
        "    \"data\": [\n",
        "        {\n",
        "            \"title\": \"Cuaca Ekstrem Diprediksi Landa Jawa Pekan Depa...\",\n",
        "            \"link\": \"https://www.cnnindonesia.com/teknologi/2023111...\",\n",
        "            \"contentSnippet\": \"BMKG memprediksi sejumlah wilayah di RI, terma...\",\n",
        "            \"isoDate\": \"2023-11-09T23:55:40.000Z\",\n",
        "            \"image\": {\n",
        "                \"small\": \"https://akcdn.detik.net.id/visual/2...\"\n",
        "            }\n",
        "        },\n",
        "        {\n",
        "            \"title\": \"'Ramalan' BTPN Soal Kapan Indonesia Benar-bena...\",\n",
        "            \"link\": \"https://www.cnnindonesia.com/teknologi/2023110...\",\n",
        "            \"contentSnippet\": \"Indonesia saat ini dianggap belum sepenuhnya s...\",\n",
        "            \"isoDate\": \"2023-11-09T15:46:31.000Z\",\n",
        "            \"image\": {\n",
        "                \"small\": \"https://akcdn.detik.net.id/visual/2...\"\n",
        "            }\n",
        "        },\n",
        "        {\n",
        "            \"title\": \"Punya Superapp, Mandiri Sorot Peran Penting Di...\",\n",
        "            \"link\": \"https://www.cnnindonesia.com/teknologi/2023110...\",\n",
        "            \"contentSnippet\": \"Direktur IT Bank Mandiri Timothy Utama mengaku...\",\n",
        "            \"isoDate\": \"2023-11-09T15:05:46.000Z\",\n",
        "            \"image\": {\n",
        "                \"small\": \"https://akcdn.detik.net.id/visual/2...\"\n",
        "            }\n",
        "        },\n",
        "        {\n",
        "            \"title\": \"BTPN Ungkap 6 Tantangan yang Dihadapi Bank Dig...\",\n",
        "            \"link\": \"https://www.cnnindonesia.com/teknologi/2023110...\",\n",
        "            \"contentSnippet\": \"Deputi CEO BTPN Darmadi Sutanto mengungkap sej...\",\n",
        "            \"isoDate\": \"2023-11-09T14:35:05.000Z\",\n",
        "            \"image\": {\n",
        "                \"small\": \"https://akcdn.detik.net.id/visual/2...\"\n",
        "            }\n",
        "        },\n",
        "        {\n",
        "            \"title\": \"FOTO: Ribuan Guci Kuno China dari Perahu Pembu...\",\n",
        "            \"link\": \"https://www.cnnindonesia.com/teknologi/2023110...\",\n",
        "            \"contentSnippet\": \"Sebanyak 1.218 keping tembikar kuno dari era d...\",\n",
        "            \"isoDate\": \"2023-11-09T13:59:48.000Z\",\n",
        "            \"image\": {\n",
        "                \"small\": \"https://akcdn.detik.net.id/visual/2...\"\n",
        "            }\n",
        "        }\n",
        "    ]\n",
        "}\n",
        "\n",
        "# Mengambil nilai dari kunci 'data' dan mengonversinya menjadi DataFrame\n",
        "df = pd.DataFrame(json_data['data'])\n",
        "\n",
        "# Menampilkan DataFrame\n",
        "print(df)\n"
      ],
      "metadata": {
        "colab": {
          "base_uri": "https://localhost:8080/"
        },
        "id": "0z_qQxy_pK8E",
        "outputId": "67624f21-ab84-4f1d-f456-51e6701a70cf"
      },
      "execution_count": 2,
      "outputs": [
        {
          "output_type": "stream",
          "name": "stdout",
          "text": [
            "                                               title  \\\n",
            "0  Cuaca Ekstrem Diprediksi Landa Jawa Pekan Depa...   \n",
            "1  'Ramalan' BTPN Soal Kapan Indonesia Benar-bena...   \n",
            "2  Punya Superapp, Mandiri Sorot Peran Penting Di...   \n",
            "3  BTPN Ungkap 6 Tantangan yang Dihadapi Bank Dig...   \n",
            "4  FOTO: Ribuan Guci Kuno China dari Perahu Pembu...   \n",
            "\n",
            "                                                link  \\\n",
            "0  https://www.cnnindonesia.com/teknologi/2023111...   \n",
            "1  https://www.cnnindonesia.com/teknologi/2023110...   \n",
            "2  https://www.cnnindonesia.com/teknologi/2023110...   \n",
            "3  https://www.cnnindonesia.com/teknologi/2023110...   \n",
            "4  https://www.cnnindonesia.com/teknologi/2023110...   \n",
            "\n",
            "                                      contentSnippet  \\\n",
            "0  BMKG memprediksi sejumlah wilayah di RI, terma...   \n",
            "1  Indonesia saat ini dianggap belum sepenuhnya s...   \n",
            "2  Direktur IT Bank Mandiri Timothy Utama mengaku...   \n",
            "3  Deputi CEO BTPN Darmadi Sutanto mengungkap sej...   \n",
            "4  Sebanyak 1.218 keping tembikar kuno dari era d...   \n",
            "\n",
            "                    isoDate                                              image  \n",
            "0  2023-11-09T23:55:40.000Z  {'small': 'https://akcdn.detik.net.id/visual/2...  \n",
            "1  2023-11-09T15:46:31.000Z  {'small': 'https://akcdn.detik.net.id/visual/2...  \n",
            "2  2023-11-09T15:05:46.000Z  {'small': 'https://akcdn.detik.net.id/visual/2...  \n",
            "3  2023-11-09T14:35:05.000Z  {'small': 'https://akcdn.detik.net.id/visual/2...  \n",
            "4  2023-11-09T13:59:48.000Z  {'small': 'https://akcdn.detik.net.id/visual/2...  \n"
          ]
        }
      ]
    },
    {
      "cell_type": "markdown",
      "source": [
        "3. Transformasi data kolom ‘isoDate’ menjadi tipe data time"
      ],
      "metadata": {
        "id": "xO30EJQ2q17s"
      }
    },
    {
      "cell_type": "code",
      "source": [
        "import pandas as pd\n",
        "\n",
        "# Data DataFrame yang telah ada\n",
        "data = {\n",
        "    'creator': ['kumparanNEWS', 'Berita Terkini', 'kumparanNEWS'],\n",
        "    'title': [\n",
        "        \"Cuaca Ekstrem Diprediksi Landa Jawa Pekan Depa...\",\n",
        "        \"'Ramalan' BTPN Soal Kapan Indonesia Benar-bena...\",\n",
        "        \"Punya Superapp, Mandiri Sorot Peran Penting Di...\"\n",
        "    ],\n",
        "    'link': [\n",
        "        \"https://www.cnnindonesia.com/teknologi/2023111...\",\n",
        "        \"https://www.cnnindonesia.com/teknologi/2023110...\",\n",
        "        \"https://www.cnnindonesia.com/teknologi/2023110...\"\n",
        "    ],\n",
        "    'isoDate': [\n",
        "        \"2023-11-09T23:55:40.000Z\",\n",
        "        \"2023-11-09T15:46:31.000Z\",\n",
        "        \"2023-11-09T15:05:46.000Z\"\n",
        "    ]\n",
        "}\n",
        "\n",
        "# Membuat DataFrame\n",
        "df = pd.DataFrame(data)\n",
        "\n",
        "# Mengubah kolom 'isoDate' menjadi tipe data datetime\n",
        "df['isoDate'] = pd.to_datetime(df['isoDate'])\n",
        "\n",
        "# Menampilkan tipe data kolom setelah transformasi\n",
        "print(df.dtypes)\n"
      ],
      "metadata": {
        "colab": {
          "base_uri": "https://localhost:8080/"
        },
        "id": "bQdkPMYcq8mt",
        "outputId": "f603f1d3-b7a0-41ad-cee4-9dabea8eb0b3"
      },
      "execution_count": 3,
      "outputs": [
        {
          "output_type": "stream",
          "name": "stdout",
          "text": [
            "creator                 object\n",
            "title                   object\n",
            "link                    object\n",
            "isoDate    datetime64[ns, UTC]\n",
            "dtype: object\n"
          ]
        }
      ]
    },
    {
      "cell_type": "markdown",
      "source": [
        "4. Aggregasi data berdasarkan kolom ‘creator’, serta urutkan berdasarkan jumlah berita terbanyak."
      ],
      "metadata": {
        "id": "UzJSVUtIsDQg"
      }
    },
    {
      "cell_type": "code",
      "source": [
        "import pandas as pd\n",
        "\n",
        "# DataFrame yang sudah ada (df) dengan data berita\n",
        "\n",
        "# Mengagregasi data berdasarkan kolom 'creator' dan menghitung jumlah berita untuk setiap 'creator'\n",
        "aggregated_data = df['creator'].value_counts().reset_index()\n",
        "aggregated_data.columns = ['creator', 'total']\n",
        "\n",
        "# Mengurutkan berdasarkan jumlah berita terbanyak\n",
        "aggregated_data = aggregated_data.sort_values(by='total', ascending=False)\n",
        "\n",
        "# Menampilkan hasil aggregasi dan pengurutan\n",
        "print(aggregated_data)\n"
      ],
      "metadata": {
        "colab": {
          "base_uri": "https://localhost:8080/"
        },
        "id": "_hPhkZUOsHvw",
        "outputId": "8aaa4441-5c27-49d2-aba1-15764c3e1530"
      },
      "execution_count": 4,
      "outputs": [
        {
          "output_type": "stream",
          "name": "stdout",
          "text": [
            "          creator  total\n",
            "0    kumparanNEWS      2\n",
            "1  Berita Terkini      1\n"
          ]
        }
      ]
    }
  ]
}